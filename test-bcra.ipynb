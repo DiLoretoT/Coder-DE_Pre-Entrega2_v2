{
 "cells": [
  {
   "cell_type": "code",
   "execution_count": 1,
   "metadata": {},
   "outputs": [
    {
     "ename": "ModuleNotFoundError",
     "evalue": "No module named 'requests'",
     "output_type": "error",
     "traceback": [
      "\u001b[1;31m---------------------------------------------------------------------------\u001b[0m",
      "\u001b[1;31mModuleNotFoundError\u001b[0m                       Traceback (most recent call last)",
      "Cell \u001b[1;32mIn[1], line 1\u001b[0m\n\u001b[1;32m----> 1\u001b[0m \u001b[38;5;28;01mimport\u001b[39;00m \u001b[38;5;21;01mrequests\u001b[39;00m\n\u001b[0;32m      2\u001b[0m \u001b[38;5;28;01mimport\u001b[39;00m \u001b[38;5;21;01mpandas\u001b[39;00m \u001b[38;5;28;01mas\u001b[39;00m \u001b[38;5;21;01mpd\u001b[39;00m\n\u001b[0;32m      3\u001b[0m \u001b[38;5;28;01mimport\u001b[39;00m \u001b[38;5;21;01mpytz\u001b[39;00m\n",
      "\u001b[1;31mModuleNotFoundError\u001b[0m: No module named 'requests'"
     ]
    }
   ],
   "source": [
    "import requests\n",
    "import pandas as pd\n",
    "import pytz\n",
    "import psycopg2\n",
    "#from sqlalchemy import create_engine\n",
    "#from sqlalchemy.orm import sessionmaker\n",
    "from datetime import datetime, timedelta\n",
    "from utils import read_api_credentials, read_config_file, connect_to_db, load_to_sql\n"
   ]
  },
  {
   "cell_type": "code",
   "execution_count": null,
   "metadata": {},
   "outputs": [],
   "source": [
    "# AUTENTICACIÓN\n",
    "api_token2 = read_api_credentials(\"config.ini\", \"api_bcra2\")\n",
    "\n",
    "headers = {\n",
    "    'Authorization': f'Bearer {api_token2['api_token2']}'\n",
    "}"
   ]
  },
  {
   "cell_type": "code",
   "execution_count": null,
   "metadata": {},
   "outputs": [],
   "source": [
    "# OBTENCIÓN Y PREPARACIÓN DE DATAFRAME\n",
    "def consolidate(endpoint, description):\n",
    "    \"\"\"\n",
    "    Esta función obtiene datos de un endpoint de la API y los convierte en un DataFrame de pandas.\n",
    "\n",
    "    Args:\n",
    "        endpoint (str): El endpoint de la API desde donde se extraen los datos.\n",
    "        concept (str): El concepto o categoría de los datos (ej. 'plazo fijo').\n",
    "\n",
    "    Returns: \n",
    "        DataFrame: Un DataFrame con los datos obtenidos del endpoint de la API, o un dataframe vacío en caso de error.\n",
    "    \"\"\"\n",
    "    url = f'https://api.estadisticasbcra.com{endpoint}'\n",
    "    response = requests.get(url, headers=headers)\n",
    "    start = datetime.now(pytz.timezone('America/Buenos_Aires')) - timedelta(days=30)\n",
    "    end = datetime.now(pytz.timezone('America/Buenos_Aires')) - timedelta(days=1)\n",
    "    \n",
    "    if response.status_code == 200:\n",
    "        print(f'Status code: {response.status_code}')         \n",
    "        data = response.json()        \n",
    "        df = pd.DataFrame(data)        \n",
    "        df.rename(columns={'d': 'Date', 'v': 'Value'}, inplace= True)        \n",
    "        df['Date'] = pd.to_datetime(df['Date'])\n",
    "        df['Date'] = df['Date'].dt.tz_localize('America/Buenos_Aires')        \n",
    "        df['Concept'] = description        \n",
    "        filtered_df = df[(df['Date'] >= start) & (df['Date'] <= end)]                \n",
    "        return filtered_df\n",
    "                \n",
    "    else: \n",
    "        print(f'Failed to fetch data from {endpoint}. Status code:', response.status_code)\n",
    "        # Retorna un df vacío\n",
    "        return pd.DataFrame()\n",
    "        \n",
    "## Endpoints y Concepts\n",
    "endpoints = [\n",
    "    (\"/plazo_fijo\", \"Plazos fijos (m)\"),\n",
    "    (\"/depositos\", \"Depositos (m)\"),\n",
    "    (\"/cajas_ahorro\", \"Cajas Ahorro (m)\"),\n",
    "    (\"/cuentas_corrientes\", \"Cuentas corrientes (m)\"),\n",
    "    (\"/usd\", \"Dolar blue\"),\n",
    "    (\"/usd_of\", \"Dolar oficial\")\n",
    "]\n",
    "## Lista vacía de endpoints para alojar durante el for\n",
    "dataframes = []\n",
    "\n",
    "## Loop \"for\" que itera sobre la lista de tuplas, llamando a la función \"consolidate\" para obtener los df y agregarlos a la lista \"dataframes\" (siempre que la respuesta no sea None o un df vacío) \n",
    "for endpoint, description in endpoints:\n",
    "    df = consolidate(endpoint, description)\n",
    "    if df is not None and not df.empty:\n",
    "        dataframes.append(df)\n",
    "        \n",
    "\n",
    "## Unificación de dataframes, generando un index nuevo y ordenando las columnas. Si no se obtuvo información, se arroja un mensaje que lo comenta. \n",
    "if dataframes:\n",
    "    df_final = pd.concat(dataframes, ignore_index=True)\n",
    "    df_final = df_final[['Date', 'Concept', 'Value']]\n",
    "    print(df_final)\n",
    "else: \n",
    "    print(\"No se lograron recolectar datos de los endpoints.\")\n",
    "    "
   ]
  },
  {
   "cell_type": "code",
   "execution_count": null,
   "metadata": {},
   "outputs": [],
   "source": [
    " CONNECTION TO REDSHIFT\n",
    "engine = connect_to_db(\"config2.ini\", \"redshift\")\n",
    "\n",
    "with engine.connect() as conn, conn.begin():\n",
    "\n",
    "    conn.execute(\"TRUNCATE TABLE tomasmartindl_coderhouse.stg_bcra\")\n",
    "\n",
    "    load_to_sql(df_final, \"stg_bcra\", conn, \"append\")\n",
    "    \n",
    "    conn.execute(\"\"\"\n",
    "        MERGE INTO tomasmartindl_coderhouse.bcra\n",
    "        USING tomasmartindl_coderhouse.stg_bcra AS stg\n",
    "        ON tomasmartindl_coderhouse.bcra.date = stg.date\n",
    "        AND tomasmartindl_coderhouse.bcra.concept = stg.concept\n",
    "        WHEN MATCHED THEN\n",
    "        update tomasmartindl_coderhouse.bcra.value = stg.value\n",
    "        WHEN NOT MATCHED THEN\n",
    "        INSERT (tomasmartindl_coderhouse.bcra.date, tomasmartindl_coderhouse.bcra.concept, tomasmartindl_coderhouse.bcra.value)\n",
    "        VALUES (stg.date, stg.concept, stg.value)             \n",
    "    \"\"\")\n",
    "    \n",
    "    #Debug print: si el código SQL se ejecuta sin excepciones, muestra el mensaj de éxito. \n",
    "    print(\"La inserción de datos a PRD validando duplicados, fue lograda con éxito.\")"
   ]
  }
 ],
 "metadata": {
  "kernelspec": {
   "display_name": "Python 3",
   "language": "python",
   "name": "python3"
  },
  "language_info": {
   "codemirror_mode": {
    "name": "ipython",
    "version": 3
   },
   "file_extension": ".py",
   "mimetype": "text/x-python",
   "name": "python",
   "nbconvert_exporter": "python",
   "pygments_lexer": "ipython3",
   "version": "3.11.4"
  }
 },
 "nbformat": 4,
 "nbformat_minor": 2
}
