{
 "cells": [
  {
   "cell_type": "code",
   "execution_count": 1,
   "metadata": {},
   "outputs": [],
   "source": [
    "import requests\n",
    "import pandas as pd\n",
    "import pytz\n",
    "from sqlalchemy import create_engine\n",
    "#from sqlalchemy.orm import sessionmaker\n",
    "from datetime import datetime, timedelta\n",
    "from utils import read_api_credentials, connect_to_db, load_to_sql\n"
   ]
  },
  {
   "cell_type": "code",
   "execution_count": 2,
   "metadata": {},
   "outputs": [],
   "source": [
    "# AUTENTICACIÓN\n",
    "api_token = read_api_credentials(\"config.ini\", \"api_bcra\")\n",
    "\n",
    "headers = {\n",
    "    'Authorization': f'Bearer {api_token['api_token']}'\n",
    "}"
   ]
  },
  {
   "cell_type": "code",
   "execution_count": 8,
   "metadata": {},
   "outputs": [
    {
     "name": "stdout",
     "output_type": "stream",
     "text": [
      "Status code: 200\n",
      "Status code: 200\n",
      "Status code: 200\n",
      "Status code: 200\n",
      "Status code: 200\n",
      "Status code: 200\n",
      "                         Date           Concept        Value\n",
      "0   2024-01-29 00:00:00-03:00  Plazos fijos (m)  22696084.00\n",
      "1   2024-01-30 00:00:00-03:00  Plazos fijos (m)  22784965.00\n",
      "2   2024-01-31 00:00:00-03:00  Plazos fijos (m)  23312711.00\n",
      "3   2024-02-01 00:00:00-03:00  Plazos fijos (m)  23420278.00\n",
      "4   2024-02-02 00:00:00-03:00  Plazos fijos (m)  23845445.00\n",
      "..                        ...               ...          ...\n",
      "101 2024-02-20 00:00:00-03:00     Dolar oficial       837.25\n",
      "102 2024-02-21 00:00:00-03:00     Dolar oficial       837.85\n",
      "103 2024-02-22 00:00:00-03:00     Dolar oficial       838.35\n",
      "104 2024-02-23 00:00:00-03:00     Dolar oficial       838.95\n",
      "105 2024-02-26 00:00:00-03:00     Dolar oficial       840.65\n",
      "\n",
      "[106 rows x 3 columns]\n"
     ]
    }
   ],
   "source": [
    "# OBTENCIÓN Y PREPARACIÓN DE DATAFRAME\n",
    "def consolidate(endpoint, description):\n",
    "    \"\"\"\n",
    "    Esta función obtiene datos de un endpoint de la API y los convierte en un DataFrame de pandas.\n",
    "\n",
    "    Args:\n",
    "        endpoint (str): El endpoint de la API desde donde se extraen los datos.\n",
    "        concept (str): El concepto o categoría de los datos (ej. 'plazo fijo').\n",
    "\n",
    "    Returns: \n",
    "        DataFrame: Un DataFrame con los datos obtenidos del endpoint de la API, o un dataframe vacío en caso de error.\n",
    "    \"\"\"\n",
    "    url = f'https://api.estadisticasbcra.com{endpoint}'\n",
    "    response = requests.get(url, headers=headers)\n",
    "    start = datetime.now(pytz.timezone('America/Buenos_Aires')) - timedelta(days=30)\n",
    "    end = datetime.now(pytz.timezone('America/Buenos_Aires')) - timedelta(days=1)\n",
    "    \n",
    "    if response.status_code == 200:\n",
    "        print(f'Status code: {response.status_code}')         \n",
    "        data = response.json()        \n",
    "        df = pd.DataFrame(data)        \n",
    "        df.rename(columns={'d': 'Date', 'v': 'Value'}, inplace= True)        \n",
    "        df['Date'] = pd.to_datetime(df['Date'])\n",
    "        df['Date'] = df['Date'].dt.tz_localize('America/Buenos_Aires')        \n",
    "        df['Concept'] = description        \n",
    "        filtered_df = df[(df['Date'] >= start) & (df['Date'] <= end)]                \n",
    "        return filtered_df\n",
    "                \n",
    "    else: \n",
    "        print(f'Failed to fetch data from {endpoint}. Status code:', response.status_code)\n",
    "        # Retorna un df vacío\n",
    "        return pd.DataFrame()\n",
    "        \n",
    "## Endpoints y Concepts\n",
    "endpoints = [\n",
    "    (\"/plazo_fijo\", \"Plazos fijos (m)\"),\n",
    "    (\"/depositos\", \"Depositos (m)\"),\n",
    "    (\"/cajas_ahorro\", \"Cajas Ahorro (m)\"),\n",
    "    (\"/cuentas_corrientes\", \"Cuentas corrientes (m)\"),\n",
    "    (\"/usd\", \"Dolar blue\"),\n",
    "    (\"/usd_of\", \"Dolar oficial\")\n",
    "]\n",
    "## Lista vacía de endpoints para alojar durante el for\n",
    "dataframes = []\n",
    "\n",
    "## Loop \"for\" que itera sobre la lista de tuplas, llamando a la función \"consolidate\" para obtener los df y agregarlos a la lista \"dataframes\" (siempre que la respuesta no sea None o un df vacío) \n",
    "for endpoint, description in endpoints:\n",
    "    df = consolidate(endpoint, description)\n",
    "    if df is not None and not df.empty:\n",
    "        dataframes.append(df)\n",
    "        \n",
    "\n",
    "## Unificación de dataframes, generando un index nuevo y ordenando las columnas. Si no se obtuvo información, se arroja un mensaje que lo comenta. \n",
    "if dataframes:\n",
    "    df_final = pd.concat(dataframes, ignore_index=True)\n",
    "    df_final = df_final[['Date', 'Concept', 'Value']]\n",
    "    print(df_final)\n",
    "else: \n",
    "    print(\"No se lograron recolectar datos de los endpoints.\")\n",
    "    "
   ]
  },
  {
   "cell_type": "code",
   "execution_count": 5,
   "metadata": {},
   "outputs": [
    {
     "name": "stdout",
     "output_type": "stream",
     "text": [
      "Requirement already satisfied: psycopg2-binary in g:\\my drive\\vscode\\coderhouse-de_pre-entrega2-v2\\venv-e2_v2\\lib\\site-packages (2.9.9)\n"
     ]
    }
   ],
   "source": [
    "!pip install psycopg2-binary"
   ]
  },
  {
   "cell_type": "code",
   "execution_count": 6,
   "metadata": {},
   "outputs": [
    {
     "name": "stderr",
     "output_type": "stream",
     "text": [
      "2024-02-27 03:20:09,599 - INFO - Conectándose a la base de datos...\n",
      "2024-02-27 03:20:09,762 - INFO - Conexión a la base de datos establecida exitosamente\n"
     ]
    },
    {
     "name": "stdout",
     "output_type": "stream",
     "text": [
      "<class 'method'>\n"
     ]
    }
   ],
   "source": [
    "# CONNECTION TO REDSHIFT\n",
    "engine = connect_to_db(\"config.ini\", \"redshift\")\n",
    "with engine.connect() as conn, conn.begin():\n",
    "    print(type(engine.connect))"
   ]
  },
  {
   "cell_type": "code",
   "execution_count": 9,
   "metadata": {},
   "outputs": [
    {
     "name": "stderr",
     "output_type": "stream",
     "text": [
      "2024-02-27 03:22:23,424 - INFO - Conectándose a la base de datos...\n",
      "2024-02-27 03:22:23,425 - INFO - Conexión a la base de datos establecida exitosamente\n",
      "2024-02-27 03:22:26,051 - INFO - Cargando datos en la base de datos...\n",
      "g:\\My Drive\\VScode\\Coderhouse-DE_Pre-Entrega2-v2\\Coder-DE_Pre-Entrega2_v2\\utils.py:79: UserWarning: pandas only supports SQLAlchemy connectable (engine/connection) or database string URI or sqlite3 DBAPI2 connection. Other DBAPI2 objects are not tested. Please consider using SQLAlchemy.\n",
      "  df.to_sql(\n",
      "2024-02-27 03:22:26,079 - ERROR - Error al cargar los datos en la base de datos: 'Connection' object has no attribute 'cursor'\n"
     ]
    },
    {
     "ename": "ProgrammingError",
     "evalue": "(psycopg2.errors.SyntaxError) syntax error at or near \"tomasmartindl_coderhouse\"\nLINE 7:         update tomasmartindl_coderhouse.bcra.value = stg.val...\n                       ^\n\n[SQL: \n        MERGE INTO tomasmartindl_coderhouse.bcra\n        USING tomasmartindl_coderhouse.stg_bcra AS stg\n        ON tomasmartindl_coderhouse.bcra.date = stg.date\n        AND tomasmartindl_coderhouse.bcra.concept = stg.concept\n        WHEN MATCHED THEN\n        update tomasmartindl_coderhouse.bcra.value = stg.value\n        WHEN NOT MATCHED THEN\n        INSERT (tomasmartindl_coderhouse.bcra.date, tomasmartindl_coderhouse.bcra.concept, tomasmartindl_coderhouse.bcra.value)\n        VALUES (stg.date, stg.concept, stg.value)             \n    ]\n(Background on this error at: https://sqlalche.me/e/14/f405)",
     "output_type": "error",
     "traceback": [
      "\u001b[1;31m---------------------------------------------------------------------------\u001b[0m",
      "\u001b[1;31mSyntaxError\u001b[0m                               Traceback (most recent call last)",
      "File \u001b[1;32mg:\\My Drive\\VScode\\Coderhouse-DE_Pre-Entrega2-v2\\venv-E2_v2\\Lib\\site-packages\\sqlalchemy\\engine\\base.py:1819\u001b[0m, in \u001b[0;36mConnection._execute_context\u001b[1;34m(self, dialect, constructor, statement, parameters, execution_options, *args, **kw)\u001b[0m\n\u001b[0;32m   1818\u001b[0m     \u001b[38;5;28;01mif\u001b[39;00m \u001b[38;5;129;01mnot\u001b[39;00m evt_handled:\n\u001b[1;32m-> 1819\u001b[0m         \u001b[38;5;28;43mself\u001b[39;49m\u001b[38;5;241;43m.\u001b[39;49m\u001b[43mdialect\u001b[49m\u001b[38;5;241;43m.\u001b[39;49m\u001b[43mdo_execute\u001b[49m\u001b[43m(\u001b[49m\n\u001b[0;32m   1820\u001b[0m \u001b[43m            \u001b[49m\u001b[43mcursor\u001b[49m\u001b[43m,\u001b[49m\u001b[43m \u001b[49m\u001b[43mstatement\u001b[49m\u001b[43m,\u001b[49m\u001b[43m \u001b[49m\u001b[43mparameters\u001b[49m\u001b[43m,\u001b[49m\u001b[43m \u001b[49m\u001b[43mcontext\u001b[49m\n\u001b[0;32m   1821\u001b[0m \u001b[43m        \u001b[49m\u001b[43m)\u001b[49m\n\u001b[0;32m   1823\u001b[0m \u001b[38;5;28;01mif\u001b[39;00m \u001b[38;5;28mself\u001b[39m\u001b[38;5;241m.\u001b[39m_has_events \u001b[38;5;129;01mor\u001b[39;00m \u001b[38;5;28mself\u001b[39m\u001b[38;5;241m.\u001b[39mengine\u001b[38;5;241m.\u001b[39m_has_events:\n",
      "File \u001b[1;32mg:\\My Drive\\VScode\\Coderhouse-DE_Pre-Entrega2-v2\\venv-E2_v2\\Lib\\site-packages\\sqlalchemy\\engine\\default.py:732\u001b[0m, in \u001b[0;36mDefaultDialect.do_execute\u001b[1;34m(self, cursor, statement, parameters, context)\u001b[0m\n\u001b[0;32m    731\u001b[0m \u001b[38;5;28;01mdef\u001b[39;00m \u001b[38;5;21mdo_execute\u001b[39m(\u001b[38;5;28mself\u001b[39m, cursor, statement, parameters, context\u001b[38;5;241m=\u001b[39m\u001b[38;5;28;01mNone\u001b[39;00m):\n\u001b[1;32m--> 732\u001b[0m     \u001b[43mcursor\u001b[49m\u001b[38;5;241;43m.\u001b[39;49m\u001b[43mexecute\u001b[49m\u001b[43m(\u001b[49m\u001b[43mstatement\u001b[49m\u001b[43m,\u001b[49m\u001b[43m \u001b[49m\u001b[43mparameters\u001b[49m\u001b[43m)\u001b[49m\n",
      "\u001b[1;31mSyntaxError\u001b[0m: syntax error at or near \"tomasmartindl_coderhouse\"\nLINE 7:         update tomasmartindl_coderhouse.bcra.value = stg.val...\n                       ^\n",
      "\nThe above exception was the direct cause of the following exception:\n",
      "\u001b[1;31mProgrammingError\u001b[0m                          Traceback (most recent call last)",
      "Cell \u001b[1;32mIn[9], line 10\u001b[0m\n\u001b[0;32m      6\u001b[0m conn\u001b[38;5;241m.\u001b[39mexecute(\u001b[38;5;124m\"\u001b[39m\u001b[38;5;124mTRUNCATE TABLE tomasmartindl_coderhouse.stg_bcra\u001b[39m\u001b[38;5;124m\"\u001b[39m)\n\u001b[0;32m      8\u001b[0m load_to_sql(df_final, \u001b[38;5;124m\"\u001b[39m\u001b[38;5;124mstg_bcra\u001b[39m\u001b[38;5;124m\"\u001b[39m, conn, \u001b[38;5;124m\"\u001b[39m\u001b[38;5;124mappend\u001b[39m\u001b[38;5;124m\"\u001b[39m)\n\u001b[1;32m---> 10\u001b[0m \u001b[43mconn\u001b[49m\u001b[38;5;241;43m.\u001b[39;49m\u001b[43mexecute\u001b[49m\u001b[43m(\u001b[49m\u001b[38;5;124;43m\"\"\"\u001b[39;49m\n\u001b[0;32m     11\u001b[0m \u001b[38;5;124;43m    MERGE INTO tomasmartindl_coderhouse.bcra\u001b[39;49m\n\u001b[0;32m     12\u001b[0m \u001b[38;5;124;43m    USING tomasmartindl_coderhouse.stg_bcra AS stg\u001b[39;49m\n\u001b[0;32m     13\u001b[0m \u001b[38;5;124;43m    ON tomasmartindl_coderhouse.bcra.date = stg.date\u001b[39;49m\n\u001b[0;32m     14\u001b[0m \u001b[38;5;124;43m    AND tomasmartindl_coderhouse.bcra.concept = stg.concept\u001b[39;49m\n\u001b[0;32m     15\u001b[0m \u001b[38;5;124;43m    WHEN MATCHED THEN\u001b[39;49m\n\u001b[0;32m     16\u001b[0m \u001b[38;5;124;43m    update tomasmartindl_coderhouse.bcra.value = stg.value\u001b[39;49m\n\u001b[0;32m     17\u001b[0m \u001b[38;5;124;43m    WHEN NOT MATCHED THEN\u001b[39;49m\n\u001b[0;32m     18\u001b[0m \u001b[38;5;124;43m    INSERT (tomasmartindl_coderhouse.bcra.date, tomasmartindl_coderhouse.bcra.concept, tomasmartindl_coderhouse.bcra.value)\u001b[39;49m\n\u001b[0;32m     19\u001b[0m \u001b[38;5;124;43m    VALUES (stg.date, stg.concept, stg.value)             \u001b[39;49m\n\u001b[0;32m     20\u001b[0m \u001b[38;5;124;43m\u001b[39;49m\u001b[38;5;124;43m\"\"\"\u001b[39;49m\u001b[43m)\u001b[49m\n\u001b[0;32m     22\u001b[0m \u001b[38;5;66;03m#Debug print: si el código SQL se ejecuta sin excepciones, muestra el mensaj de éxito. \u001b[39;00m\n\u001b[0;32m     23\u001b[0m \u001b[38;5;28mprint\u001b[39m(\u001b[38;5;124m\"\u001b[39m\u001b[38;5;124mLa inserción de datos a PRD validando duplicados, fue lograda con éxito.\u001b[39m\u001b[38;5;124m\"\u001b[39m)\n",
      "File \u001b[1;32mg:\\My Drive\\VScode\\Coderhouse-DE_Pre-Entrega2-v2\\venv-E2_v2\\Lib\\site-packages\\sqlalchemy\\engine\\base.py:1291\u001b[0m, in \u001b[0;36mConnection.execute\u001b[1;34m(self, statement, *multiparams, **params)\u001b[0m\n\u001b[0;32m   1282\u001b[0m \u001b[38;5;28;01mif\u001b[39;00m \u001b[38;5;28misinstance\u001b[39m(statement, util\u001b[38;5;241m.\u001b[39mstring_types):\n\u001b[0;32m   1283\u001b[0m     util\u001b[38;5;241m.\u001b[39mwarn_deprecated_20(\n\u001b[0;32m   1284\u001b[0m         \u001b[38;5;124m\"\u001b[39m\u001b[38;5;124mPassing a string to Connection.execute() is \u001b[39m\u001b[38;5;124m\"\u001b[39m\n\u001b[0;32m   1285\u001b[0m         \u001b[38;5;124m\"\u001b[39m\u001b[38;5;124mdeprecated and will be removed in version 2.0.  Use the \u001b[39m\u001b[38;5;124m\"\u001b[39m\n\u001b[1;32m   (...)\u001b[0m\n\u001b[0;32m   1288\u001b[0m         \u001b[38;5;124m\"\u001b[39m\u001b[38;5;124mdriver-level SQL string.\u001b[39m\u001b[38;5;124m\"\u001b[39m\n\u001b[0;32m   1289\u001b[0m     )\n\u001b[1;32m-> 1291\u001b[0m     \u001b[38;5;28;01mreturn\u001b[39;00m \u001b[38;5;28;43mself\u001b[39;49m\u001b[38;5;241;43m.\u001b[39;49m\u001b[43m_exec_driver_sql\u001b[49m\u001b[43m(\u001b[49m\n\u001b[0;32m   1292\u001b[0m \u001b[43m        \u001b[49m\u001b[43mstatement\u001b[49m\u001b[43m,\u001b[49m\n\u001b[0;32m   1293\u001b[0m \u001b[43m        \u001b[49m\u001b[43mmultiparams\u001b[49m\u001b[43m,\u001b[49m\n\u001b[0;32m   1294\u001b[0m \u001b[43m        \u001b[49m\u001b[43mparams\u001b[49m\u001b[43m,\u001b[49m\n\u001b[0;32m   1295\u001b[0m \u001b[43m        \u001b[49m\u001b[43m_EMPTY_EXECUTION_OPTS\u001b[49m\u001b[43m,\u001b[49m\n\u001b[0;32m   1296\u001b[0m \u001b[43m        \u001b[49m\u001b[43mfuture\u001b[49m\u001b[38;5;241;43m=\u001b[39;49m\u001b[38;5;28;43;01mFalse\u001b[39;49;00m\u001b[43m,\u001b[49m\n\u001b[0;32m   1297\u001b[0m \u001b[43m    \u001b[49m\u001b[43m)\u001b[49m\n\u001b[0;32m   1299\u001b[0m \u001b[38;5;28;01mtry\u001b[39;00m:\n\u001b[0;32m   1300\u001b[0m     meth \u001b[38;5;241m=\u001b[39m statement\u001b[38;5;241m.\u001b[39m_execute_on_connection\n",
      "File \u001b[1;32mg:\\My Drive\\VScode\\Coderhouse-DE_Pre-Entrega2-v2\\venv-E2_v2\\Lib\\site-packages\\sqlalchemy\\engine\\base.py:1595\u001b[0m, in \u001b[0;36mConnection._exec_driver_sql\u001b[1;34m(self, statement, multiparams, params, execution_options, future)\u001b[0m\n\u001b[0;32m   1585\u001b[0m         (\n\u001b[0;32m   1586\u001b[0m             statement,\n\u001b[0;32m   1587\u001b[0m             distilled_params,\n\u001b[1;32m   (...)\u001b[0m\n\u001b[0;32m   1591\u001b[0m             statement, distilled_parameters, execution_options\n\u001b[0;32m   1592\u001b[0m         )\n\u001b[0;32m   1594\u001b[0m dialect \u001b[38;5;241m=\u001b[39m \u001b[38;5;28mself\u001b[39m\u001b[38;5;241m.\u001b[39mdialect\n\u001b[1;32m-> 1595\u001b[0m ret \u001b[38;5;241m=\u001b[39m \u001b[38;5;28;43mself\u001b[39;49m\u001b[38;5;241;43m.\u001b[39;49m\u001b[43m_execute_context\u001b[49m\u001b[43m(\u001b[49m\n\u001b[0;32m   1596\u001b[0m \u001b[43m    \u001b[49m\u001b[43mdialect\u001b[49m\u001b[43m,\u001b[49m\n\u001b[0;32m   1597\u001b[0m \u001b[43m    \u001b[49m\u001b[43mdialect\u001b[49m\u001b[38;5;241;43m.\u001b[39;49m\u001b[43mexecution_ctx_cls\u001b[49m\u001b[38;5;241;43m.\u001b[39;49m\u001b[43m_init_statement\u001b[49m\u001b[43m,\u001b[49m\n\u001b[0;32m   1598\u001b[0m \u001b[43m    \u001b[49m\u001b[43mstatement\u001b[49m\u001b[43m,\u001b[49m\n\u001b[0;32m   1599\u001b[0m \u001b[43m    \u001b[49m\u001b[43mdistilled_parameters\u001b[49m\u001b[43m,\u001b[49m\n\u001b[0;32m   1600\u001b[0m \u001b[43m    \u001b[49m\u001b[43mexecution_options\u001b[49m\u001b[43m,\u001b[49m\n\u001b[0;32m   1601\u001b[0m \u001b[43m    \u001b[49m\u001b[43mstatement\u001b[49m\u001b[43m,\u001b[49m\n\u001b[0;32m   1602\u001b[0m \u001b[43m    \u001b[49m\u001b[43mdistilled_parameters\u001b[49m\u001b[43m,\u001b[49m\n\u001b[0;32m   1603\u001b[0m \u001b[43m\u001b[49m\u001b[43m)\u001b[49m\n\u001b[0;32m   1605\u001b[0m \u001b[38;5;28;01mif\u001b[39;00m \u001b[38;5;129;01mnot\u001b[39;00m future:\n\u001b[0;32m   1606\u001b[0m     \u001b[38;5;28;01mif\u001b[39;00m \u001b[38;5;28mself\u001b[39m\u001b[38;5;241m.\u001b[39m_has_events \u001b[38;5;129;01mor\u001b[39;00m \u001b[38;5;28mself\u001b[39m\u001b[38;5;241m.\u001b[39mengine\u001b[38;5;241m.\u001b[39m_has_events:\n",
      "File \u001b[1;32mg:\\My Drive\\VScode\\Coderhouse-DE_Pre-Entrega2-v2\\venv-E2_v2\\Lib\\site-packages\\sqlalchemy\\engine\\base.py:1862\u001b[0m, in \u001b[0;36mConnection._execute_context\u001b[1;34m(self, dialect, constructor, statement, parameters, execution_options, *args, **kw)\u001b[0m\n\u001b[0;32m   1859\u001b[0m             branched\u001b[38;5;241m.\u001b[39mclose()\n\u001b[0;32m   1861\u001b[0m \u001b[38;5;28;01mexcept\u001b[39;00m \u001b[38;5;167;01mBaseException\u001b[39;00m \u001b[38;5;28;01mas\u001b[39;00m e:\n\u001b[1;32m-> 1862\u001b[0m     \u001b[38;5;28;43mself\u001b[39;49m\u001b[38;5;241;43m.\u001b[39;49m\u001b[43m_handle_dbapi_exception\u001b[49m\u001b[43m(\u001b[49m\n\u001b[0;32m   1863\u001b[0m \u001b[43m        \u001b[49m\u001b[43me\u001b[49m\u001b[43m,\u001b[49m\u001b[43m \u001b[49m\u001b[43mstatement\u001b[49m\u001b[43m,\u001b[49m\u001b[43m \u001b[49m\u001b[43mparameters\u001b[49m\u001b[43m,\u001b[49m\u001b[43m \u001b[49m\u001b[43mcursor\u001b[49m\u001b[43m,\u001b[49m\u001b[43m \u001b[49m\u001b[43mcontext\u001b[49m\n\u001b[0;32m   1864\u001b[0m \u001b[43m    \u001b[49m\u001b[43m)\u001b[49m\n\u001b[0;32m   1866\u001b[0m \u001b[38;5;28;01mreturn\u001b[39;00m result\n",
      "File \u001b[1;32mg:\\My Drive\\VScode\\Coderhouse-DE_Pre-Entrega2-v2\\venv-E2_v2\\Lib\\site-packages\\sqlalchemy\\engine\\base.py:2043\u001b[0m, in \u001b[0;36mConnection._handle_dbapi_exception\u001b[1;34m(self, e, statement, parameters, cursor, context)\u001b[0m\n\u001b[0;32m   2041\u001b[0m     util\u001b[38;5;241m.\u001b[39mraise_(newraise, with_traceback\u001b[38;5;241m=\u001b[39mexc_info[\u001b[38;5;241m2\u001b[39m], from_\u001b[38;5;241m=\u001b[39me)\n\u001b[0;32m   2042\u001b[0m \u001b[38;5;28;01melif\u001b[39;00m should_wrap:\n\u001b[1;32m-> 2043\u001b[0m     \u001b[43mutil\u001b[49m\u001b[38;5;241;43m.\u001b[39;49m\u001b[43mraise_\u001b[49m\u001b[43m(\u001b[49m\n\u001b[0;32m   2044\u001b[0m \u001b[43m        \u001b[49m\u001b[43msqlalchemy_exception\u001b[49m\u001b[43m,\u001b[49m\u001b[43m \u001b[49m\u001b[43mwith_traceback\u001b[49m\u001b[38;5;241;43m=\u001b[39;49m\u001b[43mexc_info\u001b[49m\u001b[43m[\u001b[49m\u001b[38;5;241;43m2\u001b[39;49m\u001b[43m]\u001b[49m\u001b[43m,\u001b[49m\u001b[43m \u001b[49m\u001b[43mfrom_\u001b[49m\u001b[38;5;241;43m=\u001b[39;49m\u001b[43me\u001b[49m\n\u001b[0;32m   2045\u001b[0m \u001b[43m    \u001b[49m\u001b[43m)\u001b[49m\n\u001b[0;32m   2046\u001b[0m \u001b[38;5;28;01melse\u001b[39;00m:\n\u001b[0;32m   2047\u001b[0m     util\u001b[38;5;241m.\u001b[39mraise_(exc_info[\u001b[38;5;241m1\u001b[39m], with_traceback\u001b[38;5;241m=\u001b[39mexc_info[\u001b[38;5;241m2\u001b[39m])\n",
      "File \u001b[1;32mg:\\My Drive\\VScode\\Coderhouse-DE_Pre-Entrega2-v2\\venv-E2_v2\\Lib\\site-packages\\sqlalchemy\\util\\compat.py:207\u001b[0m, in \u001b[0;36mraise_\u001b[1;34m(***failed resolving arguments***)\u001b[0m\n\u001b[0;32m    204\u001b[0m     exception\u001b[38;5;241m.\u001b[39m__cause__ \u001b[38;5;241m=\u001b[39m replace_context\n\u001b[0;32m    206\u001b[0m \u001b[38;5;28;01mtry\u001b[39;00m:\n\u001b[1;32m--> 207\u001b[0m     \u001b[38;5;28;01mraise\u001b[39;00m exception\n\u001b[0;32m    208\u001b[0m \u001b[38;5;28;01mfinally\u001b[39;00m:\n\u001b[0;32m    209\u001b[0m     \u001b[38;5;66;03m# credit to\u001b[39;00m\n\u001b[0;32m    210\u001b[0m     \u001b[38;5;66;03m# https://cosmicpercolator.com/2016/01/13/exception-leaks-in-python-2-and-3/\u001b[39;00m\n\u001b[0;32m    211\u001b[0m     \u001b[38;5;66;03m# as the __traceback__ object creates a cycle\u001b[39;00m\n\u001b[0;32m    212\u001b[0m     \u001b[38;5;28;01mdel\u001b[39;00m exception, replace_context, from_, with_traceback\n",
      "File \u001b[1;32mg:\\My Drive\\VScode\\Coderhouse-DE_Pre-Entrega2-v2\\venv-E2_v2\\Lib\\site-packages\\sqlalchemy\\engine\\base.py:1819\u001b[0m, in \u001b[0;36mConnection._execute_context\u001b[1;34m(self, dialect, constructor, statement, parameters, execution_options, *args, **kw)\u001b[0m\n\u001b[0;32m   1817\u001b[0m                 \u001b[38;5;28;01mbreak\u001b[39;00m\n\u001b[0;32m   1818\u001b[0m     \u001b[38;5;28;01mif\u001b[39;00m \u001b[38;5;129;01mnot\u001b[39;00m evt_handled:\n\u001b[1;32m-> 1819\u001b[0m         \u001b[38;5;28;43mself\u001b[39;49m\u001b[38;5;241;43m.\u001b[39;49m\u001b[43mdialect\u001b[49m\u001b[38;5;241;43m.\u001b[39;49m\u001b[43mdo_execute\u001b[49m\u001b[43m(\u001b[49m\n\u001b[0;32m   1820\u001b[0m \u001b[43m            \u001b[49m\u001b[43mcursor\u001b[49m\u001b[43m,\u001b[49m\u001b[43m \u001b[49m\u001b[43mstatement\u001b[49m\u001b[43m,\u001b[49m\u001b[43m \u001b[49m\u001b[43mparameters\u001b[49m\u001b[43m,\u001b[49m\u001b[43m \u001b[49m\u001b[43mcontext\u001b[49m\n\u001b[0;32m   1821\u001b[0m \u001b[43m        \u001b[49m\u001b[43m)\u001b[49m\n\u001b[0;32m   1823\u001b[0m \u001b[38;5;28;01mif\u001b[39;00m \u001b[38;5;28mself\u001b[39m\u001b[38;5;241m.\u001b[39m_has_events \u001b[38;5;129;01mor\u001b[39;00m \u001b[38;5;28mself\u001b[39m\u001b[38;5;241m.\u001b[39mengine\u001b[38;5;241m.\u001b[39m_has_events:\n\u001b[0;32m   1824\u001b[0m     \u001b[38;5;28mself\u001b[39m\u001b[38;5;241m.\u001b[39mdispatch\u001b[38;5;241m.\u001b[39mafter_cursor_execute(\n\u001b[0;32m   1825\u001b[0m         \u001b[38;5;28mself\u001b[39m,\n\u001b[0;32m   1826\u001b[0m         cursor,\n\u001b[1;32m   (...)\u001b[0m\n\u001b[0;32m   1830\u001b[0m         context\u001b[38;5;241m.\u001b[39mexecutemany,\n\u001b[0;32m   1831\u001b[0m     )\n",
      "File \u001b[1;32mg:\\My Drive\\VScode\\Coderhouse-DE_Pre-Entrega2-v2\\venv-E2_v2\\Lib\\site-packages\\sqlalchemy\\engine\\default.py:732\u001b[0m, in \u001b[0;36mDefaultDialect.do_execute\u001b[1;34m(self, cursor, statement, parameters, context)\u001b[0m\n\u001b[0;32m    731\u001b[0m \u001b[38;5;28;01mdef\u001b[39;00m \u001b[38;5;21mdo_execute\u001b[39m(\u001b[38;5;28mself\u001b[39m, cursor, statement, parameters, context\u001b[38;5;241m=\u001b[39m\u001b[38;5;28;01mNone\u001b[39;00m):\n\u001b[1;32m--> 732\u001b[0m     \u001b[43mcursor\u001b[49m\u001b[38;5;241;43m.\u001b[39;49m\u001b[43mexecute\u001b[49m\u001b[43m(\u001b[49m\u001b[43mstatement\u001b[49m\u001b[43m,\u001b[49m\u001b[43m \u001b[49m\u001b[43mparameters\u001b[49m\u001b[43m)\u001b[49m\n",
      "\u001b[1;31mProgrammingError\u001b[0m: (psycopg2.errors.SyntaxError) syntax error at or near \"tomasmartindl_coderhouse\"\nLINE 7:         update tomasmartindl_coderhouse.bcra.value = stg.val...\n                       ^\n\n[SQL: \n        MERGE INTO tomasmartindl_coderhouse.bcra\n        USING tomasmartindl_coderhouse.stg_bcra AS stg\n        ON tomasmartindl_coderhouse.bcra.date = stg.date\n        AND tomasmartindl_coderhouse.bcra.concept = stg.concept\n        WHEN MATCHED THEN\n        update tomasmartindl_coderhouse.bcra.value = stg.value\n        WHEN NOT MATCHED THEN\n        INSERT (tomasmartindl_coderhouse.bcra.date, tomasmartindl_coderhouse.bcra.concept, tomasmartindl_coderhouse.bcra.value)\n        VALUES (stg.date, stg.concept, stg.value)             \n    ]\n(Background on this error at: https://sqlalche.me/e/14/f405)"
     ]
    }
   ],
   "source": [
    "# CONNECTION TO REDSHIFT\n",
    "engine = connect_to_db(\"config.ini\", \"redshift\")\n",
    "\n",
    "with engine.connect() as conn, conn.begin():\n",
    "\n",
    "    conn.execute(\"TRUNCATE TABLE tomasmartindl_coderhouse.stg_bcra\")\n",
    "\n",
    "    load_to_sql(df_final, \"stg_bcra\", conn, \"append\")\n",
    "    \n",
    "    conn.execute(\"\"\"\n",
    "        MERGE INTO tomasmartindl_coderhouse.bcra\n",
    "        USING tomasmartindl_coderhouse.stg_bcra AS stg\n",
    "        ON tomasmartindl_coderhouse.bcra.date = stg.date\n",
    "        AND tomasmartindl_coderhouse.bcra.concept = stg.concept\n",
    "        WHEN MATCHED THEN\n",
    "        update tomasmartindl_coderhouse.bcra.value = stg.value\n",
    "        WHEN NOT MATCHED THEN\n",
    "        INSERT (tomasmartindl_coderhouse.bcra.date, tomasmartindl_coderhouse.bcra.concept, tomasmartindl_coderhouse.bcra.value)\n",
    "        VALUES (stg.date, stg.concept, stg.value)             \n",
    "    \"\"\")\n",
    "    \n",
    "    #Debug print: si el código SQL se ejecuta sin excepciones, muestra el mensaj de éxito. \n",
    "    print(\"La inserción de datos a PRD validando duplicados, fue lograda con éxito.\")"
   ]
  }
 ],
 "metadata": {
  "kernelspec": {
   "display_name": "venv-E2_v2",
   "language": "python",
   "name": "python3"
  },
  "language_info": {
   "codemirror_mode": {
    "name": "ipython",
    "version": 3
   },
   "file_extension": ".py",
   "mimetype": "text/x-python",
   "name": "python",
   "nbconvert_exporter": "python",
   "pygments_lexer": "ipython3",
   "version": "3.12.2"
  }
 },
 "nbformat": 4,
 "nbformat_minor": 2
}
